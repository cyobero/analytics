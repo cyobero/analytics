{
 "cells": [
  {
   "cell_type": "markdown",
   "metadata": {},
   "source": [
    "# Declined Services"
   ]
  },
  {
   "cell_type": "markdown",
   "metadata": {},
   "source": [
    "For declined services, we will use a list of \"trigger\" words to determine whether a service has been declined or not. The words \"decline\" and \"declined\" do not suffice to categorize a comment as either being declined or not. More trigger words are needed. Regexp will not be needed as in the previous version since Python can detect partial substrings. For example, if we were to search for the word \"declined,\" but the comment included \"declined|\", Python will still detect the word, as shown below."
   ]
  },
  {
   "cell_type": "code",
   "execution_count": 26,
   "metadata": {
    "collapsed": false
   },
   "outputs": [
    {
     "data": {
      "text/plain": [
       "True"
      ]
     },
     "execution_count": 26,
     "metadata": {},
     "output_type": "execute_result"
    }
   ],
   "source": [
    "s = \"The customer declined|she said she didn't need an oil change.\"\n",
    "\"declined\" in s"
   ]
  },
  {
   "cell_type": "markdown",
   "metadata": {},
   "source": [
    "In fact, it can even detect even just a part of the string of \"declined."
   ]
  },
  {
   "cell_type": "code",
   "execution_count": 27,
   "metadata": {
    "collapsed": false
   },
   "outputs": [
    {
     "data": {
      "text/plain": [
       "True"
      ]
     },
     "execution_count": 27,
     "metadata": {},
     "output_type": "execute_result"
    }
   ],
   "source": [
    "\"decline\" in s"
   ]
  },
  {
   "cell_type": "code",
   "execution_count": 28,
   "metadata": {
    "collapsed": false
   },
   "outputs": [
    {
     "data": {
      "text/plain": [
       "True"
      ]
     },
     "execution_count": 28,
     "metadata": {},
     "output_type": "execute_result"
    }
   ],
   "source": [
    "\"dec\" in s"
   ]
  },
  {
   "cell_type": "markdown",
   "metadata": {},
   "source": [
    "Load RO_Comments file."
   ]
  },
  {
   "cell_type": "code",
   "execution_count": 35,
   "metadata": {
    "collapsed": false
   },
   "outputs": [
    {
     "data": {
      "text/plain": [
       "['quoted  975.00.  customer declined repairs at this time.',\n",
       " 'nsp / customer declined repair at this time',\n",
       " 'quoted grill   declined.   called back and approved.  part|on order   installed lower right grill',\n",
       " 'cust declined recommended repairs and or maintenance',\n",
       " 'customer declined at this time',\n",
       " 'check engine light may come back on',\n",
       " 'customer declined at this time',\n",
       " 'we readapted ipc power train can bus and check ipc display|and found okay.esp system pressure is showing 23 bar of|pressure applied while brake pedal is at rest and brake|lights are not working intermittenly.|found esp control unit hydraulic unit is malfuntioning|customer declines replacing esp control unit at this time',\n",
       " 'service express inspection complete.   car needs tires asap.|195/65r15 iron man radial  403.02 installed with all|wheelalignment.  front brakes at 8mm  rear at 6mm.   needs|wipers 45.50 installed + tax   all  declined at this time',\n",
       " 'working with tech line found secondary air ports through cylinder heads clogged with build up quoted engine removal to clean customer declined repairs at this time.']"
      ]
     },
     "execution_count": 35,
     "metadata": {},
     "output_type": "execute_result"
    }
   ],
   "source": [
    "import csv\n",
    "\n",
    "f = open('/Users/czar.yobero/Desktop/Decline_ROs_20180130.csv')\n",
    "reader = csv.DictReader(f)\n",
    "comments = []\n",
    "for row in reader:\n",
    "    comments.append(row['correction'])\n",
    "    \n",
    "comments = [comment.lower() for comment in comments]  # lower case comments\n",
    "comments[0:10]"
   ]
  },
  {
   "cell_type": "code",
   "execution_count": 84,
   "metadata": {
    "collapsed": false
   },
   "outputs": [],
   "source": [
    "def isDeclined(comment):\n",
    "    declined = False \n",
    "    trigger_words = [\n",
    "    'need',\n",
    "    'needed',\n",
    "    'rec',\n",
    "    'decline',\n",
    "    'declined',\n",
    "    'decl',\n",
    "    'recommend',\n",
    "    'recomend',\n",
    "    'recommended',\n",
    "    'recom',\n",
    "    'decline',\n",
    "    'dec',\n",
    "    'dec.',\n",
    "    'suggest',\n",
    "    'suggested',\n",
    "    'sug',\n",
    "    'sug.',\n",
    "    'next visit',\n",
    "    'loaner vehicle',\n",
    "    'full service oil change helps to',\n",
    "    'replace',\n",
    "    'replaced',\n",
    "    'thank you',\n",
    "    'cc created',\n",
    "    'web appt created',\n",
    "]\n",
    "    \n",
    "    for word in range(0, len(trigger_words)):\n",
    "        if trigger_words[word] in comment:\n",
    "            declined = True\n",
    "    \n",
    "    return declined\n",
    "            \n",
    "\n",
    "out = open('/Users/czar.yobero/Desktop/declined_services.csv', 'wb+')  # change to your own path\n",
    "writer = csv.writer(out)\n",
    "\n",
    "for comment in comments:\n",
    "    if isDeclined(comment):\n",
    "        writer.writerow([comment, 'declined'])\n",
    "    else:\n",
    "        writer.writerow([comment, 'not declined'])\n",
    "        \n",
    "f.close()\n",
    "out.close()"
   ]
  }
 ],
 "metadata": {
  "kernelspec": {
   "display_name": "Python 2",
   "language": "python",
   "name": "python2"
  },
  "language_info": {
   "codemirror_mode": {
    "name": "ipython",
    "version": 2
   },
   "file_extension": ".py",
   "mimetype": "text/x-python",
   "name": "python",
   "nbconvert_exporter": "python",
   "pygments_lexer": "ipython2",
   "version": "2.7.13"
  }
 },
 "nbformat": 4,
 "nbformat_minor": 2
}
