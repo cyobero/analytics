{
 "cells": [
  {
   "cell_type": "markdown",
   "metadata": {
    "deletable": true,
    "editable": true
   },
   "source": [
    "# Using K-Nearest Neighbors (kNN) to Predict the Average Rating of Similar Movies"
   ]
  },
  {
   "cell_type": "markdown",
   "metadata": {
    "deletable": true,
    "editable": true
   },
   "source": [
    "## K-Nearest Neighbors (kNN) "
   ]
  },
  {
   "cell_type": "markdown",
   "metadata": {
    "deletable": true,
    "editable": true
   },
   "source": [
    "**K-Nearest Neighbors (kNN)** is an unsupervised machine learning algorithm that can be used for classification. The input consists of the *k closest* training examples in the given feature space. The most simple way to describe how the algorithm works is that it classifies observations with the most similar, or \"nearest\", neighbors based on some measure of distance (e.g. Euclidean, cosine, etc.). "
   ]
  },
  {
   "cell_type": "code",
   "execution_count": 1,
   "metadata": {
    "collapsed": false,
    "deletable": true,
    "editable": true
   },
   "outputs": [
    {
     "data": {
      "text/html": [
       "<div>\n",
       "<table border=\"1\" class=\"dataframe\">\n",
       "  <thead>\n",
       "    <tr style=\"text-align: right;\">\n",
       "      <th></th>\n",
       "      <th>user_id</th>\n",
       "      <th>movie_id</th>\n",
       "      <th>rating</th>\n",
       "    </tr>\n",
       "  </thead>\n",
       "  <tbody>\n",
       "    <tr>\n",
       "      <th>0</th>\n",
       "      <td>196</td>\n",
       "      <td>242</td>\n",
       "      <td>3</td>\n",
       "    </tr>\n",
       "    <tr>\n",
       "      <th>1</th>\n",
       "      <td>186</td>\n",
       "      <td>302</td>\n",
       "      <td>3</td>\n",
       "    </tr>\n",
       "    <tr>\n",
       "      <th>2</th>\n",
       "      <td>22</td>\n",
       "      <td>377</td>\n",
       "      <td>1</td>\n",
       "    </tr>\n",
       "    <tr>\n",
       "      <th>3</th>\n",
       "      <td>244</td>\n",
       "      <td>51</td>\n",
       "      <td>2</td>\n",
       "    </tr>\n",
       "    <tr>\n",
       "      <th>4</th>\n",
       "      <td>166</td>\n",
       "      <td>346</td>\n",
       "      <td>1</td>\n",
       "    </tr>\n",
       "  </tbody>\n",
       "</table>\n",
       "</div>"
      ],
      "text/plain": [
       "   user_id  movie_id  rating\n",
       "0      196       242       3\n",
       "1      186       302       3\n",
       "2       22       377       1\n",
       "3      244        51       2\n",
       "4      166       346       1"
      ]
     },
     "execution_count": 1,
     "metadata": {},
     "output_type": "execute_result"
    }
   ],
   "source": [
    "import pandas as pd\n",
    "import numpy as np\n",
    "from scipy.stats import zscore\n",
    "from scipy import spatial\n",
    "import operator\n",
    "\n",
    "r_cols = ['user_id', 'movie_id', 'rating']\n",
    "ratings = pd.read_csv('/Users/czar.yobero/SparkScala/ml-100k/u.data', sep='\\t', names=r_cols, usecols=range(3))\n",
    "ratings.head()"
   ]
  },
  {
   "cell_type": "markdown",
   "metadata": {},
   "source": [
    "Now, we'll group everything by movie ID and compute the total number of ratings (i.e. each movie's popularity) and the mean rating for every movie."
   ]
  },
  {
   "cell_type": "code",
   "execution_count": 2,
   "metadata": {
    "collapsed": false
   },
   "outputs": [
    {
     "data": {
      "text/html": [
       "<div>\n",
       "<table border=\"1\" class=\"dataframe\">\n",
       "  <thead>\n",
       "    <tr>\n",
       "      <th></th>\n",
       "      <th colspan=\"2\" halign=\"left\">rating</th>\n",
       "    </tr>\n",
       "    <tr>\n",
       "      <th></th>\n",
       "      <th>size</th>\n",
       "      <th>mean</th>\n",
       "    </tr>\n",
       "    <tr>\n",
       "      <th>movie_id</th>\n",
       "      <th></th>\n",
       "      <th></th>\n",
       "    </tr>\n",
       "  </thead>\n",
       "  <tbody>\n",
       "    <tr>\n",
       "      <th>1</th>\n",
       "      <td>452</td>\n",
       "      <td>3.878319</td>\n",
       "    </tr>\n",
       "    <tr>\n",
       "      <th>2</th>\n",
       "      <td>131</td>\n",
       "      <td>3.206107</td>\n",
       "    </tr>\n",
       "    <tr>\n",
       "      <th>3</th>\n",
       "      <td>90</td>\n",
       "      <td>3.033333</td>\n",
       "    </tr>\n",
       "    <tr>\n",
       "      <th>4</th>\n",
       "      <td>209</td>\n",
       "      <td>3.550239</td>\n",
       "    </tr>\n",
       "    <tr>\n",
       "      <th>5</th>\n",
       "      <td>86</td>\n",
       "      <td>3.302326</td>\n",
       "    </tr>\n",
       "  </tbody>\n",
       "</table>\n",
       "</div>"
      ],
      "text/plain": [
       "         rating          \n",
       "           size      mean\n",
       "movie_id                 \n",
       "1           452  3.878319\n",
       "2           131  3.206107\n",
       "3            90  3.033333\n",
       "4           209  3.550239\n",
       "5            86  3.302326"
      ]
     },
     "execution_count": 2,
     "metadata": {},
     "output_type": "execute_result"
    }
   ],
   "source": [
    "movie_properties = ratings.groupby('movie_id').agg({'rating': [np.size, np.mean]})\n",
    "movie_properties.head()"
   ]
  },
  {
   "cell_type": "markdown",
   "metadata": {},
   "source": [
    "The raw number of ratings is not very useful for computing distances between movies, so we will create a new data frame that contains the normalized number of ratings. A value of 0 means nobody rated it, and a value fo 1 will mean it's the most popular movie there is. "
   ]
  },
  {
   "cell_type": "code",
   "execution_count": 3,
   "metadata": {
    "collapsed": false
   },
   "outputs": [
    {
     "data": {
      "text/html": [
       "<div>\n",
       "<table border=\"1\" class=\"dataframe\">\n",
       "  <thead>\n",
       "    <tr style=\"text-align: right;\">\n",
       "      <th></th>\n",
       "      <th>size</th>\n",
       "    </tr>\n",
       "    <tr>\n",
       "      <th>movie_id</th>\n",
       "      <th></th>\n",
       "    </tr>\n",
       "  </thead>\n",
       "  <tbody>\n",
       "    <tr>\n",
       "      <th>1</th>\n",
       "      <td>4.884858</td>\n",
       "    </tr>\n",
       "    <tr>\n",
       "      <th>2</th>\n",
       "      <td>0.890331</td>\n",
       "    </tr>\n",
       "    <tr>\n",
       "      <th>3</th>\n",
       "      <td>0.380127</td>\n",
       "    </tr>\n",
       "    <tr>\n",
       "      <th>4</th>\n",
       "      <td>1.860964</td>\n",
       "    </tr>\n",
       "    <tr>\n",
       "      <th>5</th>\n",
       "      <td>0.330351</td>\n",
       "    </tr>\n",
       "  </tbody>\n",
       "</table>\n",
       "</div>"
      ],
      "text/plain": [
       "              size\n",
       "movie_id          \n",
       "1         4.884858\n",
       "2         0.890331\n",
       "3         0.380127\n",
       "4         1.860964\n",
       "5         0.330351"
      ]
     },
     "execution_count": 3,
     "metadata": {},
     "output_type": "execute_result"
    }
   ],
   "source": [
    "num_ratings = pd.DataFrame(movie_properties['rating']['size'])\n",
    "num_ratings_norm = num_ratings.apply(lambda x: (x - np.mean(x)) / np.std(x))\n",
    "num_ratings_norm.head()"
   ]
  },
  {
   "cell_type": "markdown",
   "metadata": {},
   "source": [
    "Now, let's retrieve the genre information from the \"u.item\" file. There are 19 fields that each correspond to a specific genre (e.g. horror, comedy, drama, etc.). A value of 0 means it is not in that genre, and a value of 1 means that it is. A movie may have more than one genre associated with it (think \"dramadies\"). \n",
    "\n",
    "We will also put together everything into one big Python dictionary. Each entry will contain the movie name, list of genre values, the normalized (z-score) popularity score, and the average rating of each movie. "
   ]
  },
  {
   "cell_type": "code",
   "execution_count": 4,
   "metadata": {
    "collapsed": true
   },
   "outputs": [],
   "source": [
    "movie_dict = {}\n",
    "with open(r'/Users/czar.yobero/SparkScala/ml-100k/u.item') as f:\n",
    "    temp = ''\n",
    "    for line in f:\n",
    "        fields = line.rstrip('\\n').split('|')\n",
    "        movie_id = int(fields[0])\n",
    "        name = fields[1]\n",
    "        genres = fields[5:25]\n",
    "        genres = map(int, genres)\n",
    "        movie_dict[movie_id] = (name, genres, num_ratings_norm.loc[movie_id].get('size'), \n",
    "                                movie_properties.loc[movie_id].rating)"
   ]
  },
  {
   "cell_type": "code",
   "execution_count": 5,
   "metadata": {
    "collapsed": false
   },
   "outputs": [
    {
     "data": {
      "text/plain": [
       "('Seven (Se7en) (1995)',\n",
       " [0, 0, 0, 0, 0, 0, 1, 0, 0, 0, 0, 0, 0, 0, 0, 0, 1, 0, 0],\n",
       " 2.1969522760542399,\n",
       " size    236.000000\n",
       " mean      3.847458\n",
       " Name: 11, dtype: float64)"
      ]
     },
     "execution_count": 5,
     "metadata": {},
     "output_type": "execute_result"
    }
   ],
   "source": [
    "movie_dict[11]"
   ]
  },
  {
   "cell_type": "markdown",
   "metadata": {},
   "source": [
    "Now, let us define a function that computes the distance between two movies based on how similar their genres are and how similar their popularity is. To test, we will compute the distance between movie ID's 12 and 10. There are multiple measurements to compute the distances. We will compute the distances using Euclidean Distance, which is given by \n",
    "\n",
    "$$\n",
    "\\begin{aligned}\n",
    "\\text{dist}(p,q) = \\sqrt{(q_{1} - p_{1})^{2} + (q_{2} - p_{2})^{2} \\ldots (q_{n} - p_{n})^{2}} = \\sqrt{\\sum_{i=1}^{n}{(q_{i}-p_{i})^{2}}}\n",
    "\\end{aligned}\n",
    "$$"
   ]
  },
  {
   "cell_type": "code",
   "execution_count": 6,
   "metadata": {
    "collapsed": false
   },
   "outputs": [
    {
     "data": {
      "text/plain": [
       "6.9153840441811365"
      ]
     },
     "execution_count": 6,
     "metadata": {},
     "output_type": "execute_result"
    }
   ],
   "source": [
    "def computeDistance(a, b):\n",
    "    genre_a = a[1]\n",
    "    genre_b = b[1]\n",
    "    genre_distance = spatial.distance.euclidean(genre_a, genre_b)\n",
    "    popularity_a = a[2]\n",
    "    popularity_b = b[2]\n",
    "    popularity_distance = abs(popularity_a - popularity_b)\n",
    "    \n",
    "    return genre_distance + popularity_distance\n",
    "\n",
    "computeDistance(movie_dict[27], movie_dict[1])"
   ]
  },
  {
   "cell_type": "markdown",
   "metadata": {},
   "source": [
    "Remember that the higher the distance, the less similar the movies are. Let's check what movies 12 and 10 actually are to confirm how similar they are."
   ]
  },
  {
   "cell_type": "code",
   "execution_count": 7,
   "metadata": {
    "collapsed": false
   },
   "outputs": [
    {
     "name": "stdout",
     "output_type": "stream",
     "text": [
      "('Toy Story (1995)', [0, 0, 0, 1, 1, 1, 0, 0, 0, 0, 0, 0, 0, 0, 0, 0, 0, 0, 0], 4.8848584875558236, size    452.000000\n",
      "mean      3.878319\n",
      "Name: 1, dtype: float64)\n",
      "('Bad Boys (1995)', [0, 1, 0, 0, 0, 0, 0, 0, 0, 0, 0, 0, 0, 0, 0, 0, 0, 0, 0], -0.030525556625312499, size    57.000000\n",
      "mean     3.105263\n",
      "Name: 27, dtype: float64)\n"
     ]
    }
   ],
   "source": [
    "print movie_dict[1]\n",
    "print movie_dict[27]"
   ]
  },
  {
   "cell_type": "markdown",
   "metadata": {},
   "source": [
    "This seems about right. While I haven't seen *Richard III*, I am willing to bet that it is not that similar to *The Usual Suspsects*, hence the high distance score."
   ]
  },
  {
   "cell_type": "markdown",
   "metadata": {},
   "source": [
    "Now we just need to write a few more lines of code to compute the distance between a test movie, *Bad Boys* in this case (great movie deserving of an Oscar), and all of the other movies in the data set. We will then sort them by distance and print out the K-nearest neighbors.   "
   ]
  },
  {
   "cell_type": "code",
   "execution_count": 8,
   "metadata": {
    "collapsed": false
   },
   "outputs": [],
   "source": [
    "def getNeighbors(movie_id, K):\n",
    "    distances = []\n",
    "    for movie in movie_dict:\n",
    "        if (movie != movie_id):\n",
    "            distance = computeDistance(movie_dict[movie_id], movie_dict[movie])\n",
    "            distances.append((movie, distance))\n",
    "    distances.sort(key=operator.itemgetter(1))\n",
    "    neighbors = []\n",
    "    for x in range(K):\n",
    "        neighbors.append(distances[x][0])    \n",
    "    return neighbors"
   ]
  },
  {
   "cell_type": "markdown",
   "metadata": {},
   "source": [
    "Let's now get the nearest neighbors (i.e. movies most similar to one of my fave movies of all time, Bad Boys)."
   ]
  },
  {
   "cell_type": "code",
   "execution_count": 9,
   "metadata": {
    "collapsed": false
   },
   "outputs": [
    {
     "name": "stdout",
     "output_type": "stream",
     "text": [
      "Bulletproof (1996) 3.20408163265\n",
      "Substitute, The (1996) 2.69387755102\n",
      "Under Siege 2: Dark Territory (1995) 2.45833333333\n",
      "Sudden Death (1995) 2.72340425532\n",
      "Shadow, The (1994) 2.88888888889\n",
      "Money Train (1995) 2.51162790698\n",
      "Metro (1997) 2.91666666667\n",
      "Terminal Velocity (1994) 2.67647058824\n",
      "Drop Zone (1994) 2.54838709677\n",
      "Judgment Night (1993) 2.68\n"
     ]
    }
   ],
   "source": [
    "K = 10\n",
    "mean_rating = 0\n",
    "neighbors = getNeighbors(27, K)\n",
    "\n",
    "for neighbor in neighbors:\n",
    "    mean_rating += movie_dict[neighbor][3][1]\n",
    "    print movie_dict[neighbor][0] + \" \" + str(movie_dict[neighbor][3][1])\n",
    "    \n",
    "mean_rating /= float(K)"
   ]
  },
  {
   "cell_type": "markdown",
   "metadata": {},
   "source": [
    "Let's compute the mean rating of the ten nearest neighbors to *Bad Boys*."
   ]
  },
  {
   "cell_type": "code",
   "execution_count": 10,
   "metadata": {
    "collapsed": false
   },
   "outputs": [
    {
     "data": {
      "text/plain": [
       "2.7301737919867741"
      ]
     },
     "execution_count": 10,
     "metadata": {},
     "output_type": "execute_result"
    }
   ],
   "source": [
    "mean_rating"
   ]
  },
  {
   "cell_type": "markdown",
   "metadata": {},
   "source": [
    "Now, how does this compare to the mean rating of Bad Boys, which by the way should be a five out of five, but whatevs. #HatersGonHate"
   ]
  },
  {
   "cell_type": "code",
   "execution_count": 11,
   "metadata": {
    "collapsed": false
   },
   "outputs": [
    {
     "data": {
      "text/plain": [
       "3.1052631578947367"
      ]
     },
     "execution_count": 11,
     "metadata": {},
     "output_type": "execute_result"
    }
   ],
   "source": [
    "movie_dict[27][3][1]"
   ]
  },
  {
   "cell_type": "markdown",
   "metadata": {},
   "source": [
    "The ratings are fairly similar. *Bad Boys* and similar movies to it have an average rating of $\\approx3$."
   ]
  }
 ],
 "metadata": {
  "kernelspec": {
   "display_name": "Python 2",
   "language": "python",
   "name": "python2"
  },
  "language_info": {
   "codemirror_mode": {
    "name": "ipython",
    "version": 2
   },
   "file_extension": ".py",
   "mimetype": "text/x-python",
   "name": "python",
   "nbconvert_exporter": "python",
   "pygments_lexer": "ipython2",
   "version": "2.7.13"
  }
 },
 "nbformat": 4,
 "nbformat_minor": 2
}
