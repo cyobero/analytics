{
 "cells": [
  {
   "cell_type": "markdown",
   "metadata": {},
   "source": [
    "# Customer Life-Time Value POC "
   ]
  },
  {
   "cell_type": "markdown",
   "metadata": {},
   "source": [
    "**Customer Life-Time Value (CLV** is a marketing concept that attempts to predict the net profit attributed to the future relationship with a particular customer. Some advantages of calculating a customer's CLV include\n",
    "\n",
    "- Determination of the optimal level of investments in marketing and sales activities.\n",
    "- Provides a good basis for selecting customers and for decision making regarding customer specific communication strategies.\n",
    "- Optimal allocation of limited resources for ongoing marketing activities in order to achieve a maximum return.\n",
    "- Encourages marketers to focus on the long-term value of customers instead of investing resources in acquiring \"cheap\" customers with low total revenue value."
   ]
  },
  {
   "cell_type": "markdown",
   "metadata": {},
   "source": [
    "## Calculating the CLV"
   ]
  },
  {
   "cell_type": "markdown",
   "metadata": {},
   "source": [
    "There are numerous ways in which CLV can be calculated. Some are more complex than others. We will examine two ways in which one can calculate a customer's CLV.\n",
    "\n",
    "Perhaps the most comprehensive, and therefore more complex method of calculating customer lifetime-value is\n",
    "\n",
    "$$\n",
    "\\begin{aligned}\n",
    "    \\text{CLV} = \\text{GC} \\cdot \\sum_{i=1}^{n} \\frac{r^{i}}{(1 + d)^{i}} - M \\cdot \\sum_{i=1}^{n} \\frac{r^{i-1}}{(1+d)^{i-0.5}} &&&& (1)\n",
    "\\end{aligned}\n",
    "$$"
   ]
  },
  {
   "cell_type": "markdown",
   "metadata": {},
   "source": [
    "where $\\text{GC}$ is the yearly gross contribution per customer, $M$ is the relevant retention costs per customer per annum, $r$ is the cusotmer retention rate (conversely $1 - r$ is the **churn rate**), $d$ is the yearly discount rate, which is usually the *cost of capital* or in lieu of that, the interest rate (e.g. the interest rate on a 1-year Treasury Bill), and $i$ is the period (i.e. the unit into which a customer relationship is dicided for analysis). \n",
    "\n",
    "The equation itself is by no means a complex one. Furthermore, it assumes a CLV of a period equalling one year. The biggest obstacle to using this equation to estimate CLV is obtaining the data. For example, $M$, the releacnt retention costs per customer per year might not be as easily ascertainable for many organizations.\n",
    "\n",
    "Luckily, there is a nmore simplified version of calcuating CLV, and the calculation is as follows\n",
    "\n",
    "$$\n",
    "\\begin{aligned}\n",
    "    \\text{CLV} = \\text{GC} \\cdot \\Bigg(\\frac{1}{1 + d - r}\\Bigg) &&&& (2)\n",
    "\\end{aligned}\n",
    "$$\n",
    "\n",
    "Unlike equation (1), where the model assumes CLV is calcuated within a period of a year, equation (2) assumes an infinite economic life. That is, $N \\rightarrow \\infty$.\n",
    "\n",
    "The decision between which model to use is mostly contingent on two factors. First, how comprehensive, or accurate, do you want your CLV model to be, and second, are you able to retrieve the necessary data for the formula? The latter is perhaps the biggest barrier and deciding factor regarding which model to choose. For our purposes, we will use model (2)."
   ]
  },
  {
   "cell_type": "markdown",
   "metadata": {},
   "source": [
    "## Calculating Customer Life-Time Value Assuming Infinite Economic Life"
   ]
  },
  {
   "cell_type": "markdown",
   "metadata": {},
   "source": [
    "We'll first need to get data. For retention rate $r$, we will have to fabricate a figure. Let us assume that in a given year, the customer retention rate is $\\%70$. For the discount factor $d$, we will take an advantage of an API thatn retrieves the interest rate on a 1-Year Treasury Bill. For gross contributions $\\text{GC}$, we will also need to fabricate some data. "
   ]
  },
  {
   "cell_type": "code",
   "execution_count": 18,
   "metadata": {
    "collapsed": true
   },
   "outputs": [],
   "source": [
    "import urllib2\n",
    "import json\n",
    "\n",
    "def getRate():\n",
    "    request = 'https://www.quandl.com/api/v3/datasets/USTREASURY/BILLRATES.json?api_key=t4gLtTYpDsVosz2pNH8n'\n",
    "    response = urllib2.urlopen(request)\n",
    "    data = json.load(response)\n",
    "    rate = data['dataset']['data'][0][8]\n",
    "    rate = rate / 100\n",
    "    return rate\n",
    "\n",
    "def CLV(gc):\n",
    "    d = getRate()\n",
    "    clv = gc * (1 / (1 + d - r))\n",
    "    return clv"
   ]
  },
  {
   "cell_type": "markdown",
   "metadata": {},
   "source": [
    "Generate some ficticious customers."
   ]
  },
  {
   "cell_type": "code",
   "execution_count": 36,
   "metadata": {
    "collapsed": false
   },
   "outputs": [
    {
     "name": "stdout",
     "output_type": "stream",
     "text": [
      "Adam 15733.1655129\n",
      "Adam 15733.1655129\n",
      "Lisa 6922.59282568\n",
      "Lisa 6922.59282568\n",
      "Bart 3146.63310258\n",
      "Bart 3146.63310258\n",
      "Dexter 31466.3310258\n",
      "Dexter 31466.3310258\n",
      "Amber 12278.1623663\n",
      "Amber 12278.1623663\n",
      "Homer 10383.8892385\n",
      "Homer 10383.8892385\n",
      "Marge 6293.26620516\n",
      "Marge 6293.26620516\n"
     ]
    }
   ],
   "source": [
    "customers = []\n",
    "\n",
    "adam = {'name': 'Adam', 'gc': 5000}\n",
    "lisa = {'name': 'Lisa', 'gc': 2200}\n",
    "bart = {'name': 'Bart', 'gc': 1000}\n",
    "dexter = {'name': 'Dexter', 'gc': 10000}\n",
    "amber = {'name': 'Amber', 'gc': 3902}\n",
    "homer = {'name':'Homer', 'gc': 3300}\n",
    "marge = {'name': 'Marge','gc': 2000}\n",
    "\n",
    "customers.append(adam)\n",
    "customers.append(lisa)\n",
    "customers.append(bart)\n",
    "customers.append(dexter)\n",
    "customers.append(amber)\n",
    "customers.append(homer)\n",
    "customers.append(marge)\n",
    "\n",
    "r = 0.7\n",
    "\n",
    "for customer in customers:\n",
    "    for name, amount in customer.items():\n",
    "        print customer['name'], CLV(customer['gc'], r)"
   ]
  },
  {
   "cell_type": "markdown",
   "metadata": {},
   "source": [
    "So what are these figures exactly telling you? As we've mentioned before, these figures represent the dollar amount that a customer contributes to your organization's net profit within a given year (in this case, assuming a lifetime relationship). "
   ]
  },
  {
   "cell_type": "markdown",
   "metadata": {},
   "source": [
    "Notice also that if your organizatin has a high retention rate, the customer lifetime values of each customer will increase. Conversely, if your organization has a low customer retention rate, then their customer lifetime value will decrease, as shown in the following example."
   ]
  },
  {
   "cell_type": "code",
   "execution_count": 37,
   "metadata": {
    "collapsed": false
   },
   "outputs": [
    {
     "name": "stdout",
     "output_type": "stream",
     "text": [
      "Adam 8805.91757661\n",
      "Adam 8805.91757661\n",
      "Lisa 3874.60373371\n",
      "Lisa 3874.60373371\n",
      "Bart 1761.18351532\n",
      "Bart 1761.18351532\n",
      "Dexter 17611.8351532\n",
      "Dexter 17611.8351532\n",
      "Amber 6872.13807679\n",
      "Amber 6872.13807679\n",
      "Homer 5811.90560056\n",
      "Homer 5811.90560056\n",
      "Marge 3522.36703064\n",
      "Marge 3522.36703064\n"
     ]
    }
   ],
   "source": [
    "r = 0.45\n",
    "for customer in customers:\n",
    "    for name, amount in customer.iteritems():\n",
    "        print customer['name'], CLV(customer['gc'], r)"
   ]
  },
  {
   "cell_type": "markdown",
   "metadata": {},
   "source": [
    "# Conclusion"
   ]
  },
  {
   "cell_type": "markdown",
   "metadata": {},
   "source": [
    "Knowing the lifetime value of customers can endow you many insights. It can optimize your decision making in many ways (as discussed in the introduction). How you choose to act on these figures is more important than the figures themseleves."
   ]
  }
 ],
 "metadata": {
  "kernelspec": {
   "display_name": "Python 2",
   "language": "python",
   "name": "python2"
  },
  "language_info": {
   "codemirror_mode": {
    "name": "ipython",
    "version": 2
   },
   "file_extension": ".py",
   "mimetype": "text/x-python",
   "name": "python",
   "nbconvert_exporter": "python",
   "pygments_lexer": "ipython2",
   "version": "2.7.13"
  }
 },
 "nbformat": 4,
 "nbformat_minor": 2
}
