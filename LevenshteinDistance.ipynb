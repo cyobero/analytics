{
 "cells": [
  {
   "cell_type": "markdown",
   "metadata": {
    "deletable": true,
    "editable": true
   },
   "source": [
    "# Text Similarity Using Levenshtein Distance"
   ]
  },
  {
   "cell_type": "markdown",
   "metadata": {
    "deletable": true,
    "editable": true
   },
   "source": [
    "The Levenshtein Distance algorithm calculates the similarity between a source string $s$ and a target string $t$. The distance is the number of insertions, deletions, and substitutions necessary to transform the source string into the target string. The algorithm has many use cases, including spell checking, checking for plaigarism, and speech recognition. The greater the Levenshtein Distance (LD), the less similar the source string $s$ is to the target string $t$. For example, \n",
    "\n",
    "+ If $s$ is \"apple\" and $t$ is \"apple,\" then $\\text{LD}(s, t) = 0$.\n",
    "+ If $s$ is \"stop\" and $t$ is \"stopping,\" then $\\text{LD}(s, t) = 1$.\n",
    "\n",
    "Mathematically, the Levenshtein Distance between two strings is given by\n",
    "\n",
    "$$\n",
    "\\text{LD}_{a, b}(i, j) = \n",
    "\\begin{cases}\n",
    "    \\max{(i, j)} \\qquad \\text{if} \\min{(i,j)} = 0\\\\\n",
    "    \\min{\n",
    "        \\begin{cases}\n",
    "            \\text{LD}_{a,b}(i - 1, j) + 1 \\\\\n",
    "            \\text{LD}_{a,b}(i, j - 1) + 1 \\\\\n",
    "            \\text{LD}_{a,b}(i - 1, j - 1) + 1_{a_{i} \\neq b_{j}}  \\qquad \\text{otherwise}\n",
    "        \\end{cases}\n",
    "        }\n",
    "\\end{cases}\n",
    "$$"
   ]
  },
  {
   "cell_type": "markdown",
   "metadata": {
    "deletable": true,
    "editable": true
   },
   "source": [
    "## Creating Our Functions "
   ]
  },
  {
   "cell_type": "markdown",
   "metadata": {
    "deletable": true,
    "editable": true
   },
   "source": [
    "We'll create two functions. A minimum() function and the actual Levenshtein Distance LD() function. First, let's create our minimum() function."
   ]
  },
  {
   "cell_type": "code",
   "execution_count": 95,
   "metadata": {
    "collapsed": false,
    "deletable": true,
    "editable": true
   },
   "outputs": [],
   "source": [
    "# The minimum function #\n",
    "def minimum(a, b, c):\n",
    "    mi = a\n",
    "    \n",
    "    if (b <= mi):\n",
    "        mi = b\n",
    "    if (c <= mi):\n",
    "        mi = c\n",
    "    \n",
    "    return mi\n",
    "\n",
    "# The LD function #\n",
    "def LD(s, t):\n",
    "    \n",
    "    n = len(s) # length of string s\n",
    "    m = len(t) # length of string t\n",
    "    \n",
    "    if n == 0:\n",
    "        return n\n",
    "    \n",
    "    d = [[0 for x in range(n + 1)] for y in range(m + 1)] # matrix \n",
    "    \n",
    "    for i in range(0, n):\n",
    "        d[i][0] = n\n",
    "    \n",
    "    for j in range(0, m):\n",
    "        d[0][j] = j\n",
    "        \n",
    "    for i in range(1, n):\n",
    "        s_i = s[i - 1]\n",
    "        \n",
    "        for j in range(1, m):\n",
    "            t_j = t[j - 1]\n",
    "            \n",
    "            if s_i == t_j:\n",
    "                cost = 0\n",
    "            else:\n",
    "                cost = 1\n",
    "                \n",
    "            d[i][j] = minimum(d[i - 1][j] + 1, d[i][j - 1] + 1, d[i - 1][j - 1] + cost)\n",
    "    \n",
    "    return d[i][j]"
   ]
  },
  {
   "cell_type": "markdown",
   "metadata": {},
   "source": [
    "Now that we have created our $\\text{LD}()$ function, let's compute similarity between strings."
   ]
  },
  {
   "cell_type": "code",
   "execution_count": 100,
   "metadata": {
    "collapsed": false
   },
   "outputs": [],
   "source": [
    "str1 = \"apple\"\n",
    "str2 = \"apple\"\n",
    "str3 = \"banana\"\n",
    "str4 = \"cananas\""
   ]
  },
  {
   "cell_type": "code",
   "execution_count": 101,
   "metadata": {
    "collapsed": false
   },
   "outputs": [
    {
     "data": {
      "text/plain": [
       "0"
      ]
     },
     "execution_count": 101,
     "metadata": {},
     "output_type": "execute_result"
    }
   ],
   "source": [
    "LD(str1, str2)"
   ]
  },
  {
   "cell_type": "code",
   "execution_count": 102,
   "metadata": {
    "collapsed": false
   },
   "outputs": [
    {
     "data": {
      "text/plain": [
       "2"
      ]
     },
     "execution_count": 102,
     "metadata": {},
     "output_type": "execute_result"
    }
   ],
   "source": [
    "LD(str3, str4)"
   ]
  },
  {
   "cell_type": "markdown",
   "metadata": {},
   "source": [
    "# Conclusion"
   ]
  },
  {
   "cell_type": "markdown",
   "metadata": {},
   "source": [
    "This was a fairly simple example on the Levenshtein Distance algorithm for computing text similarity. The algorithm can be extended to more complicated cases, such as comparing two documents for plaigarism, creating a spell check program, or even DNA analysis. "
   ]
  }
 ],
 "metadata": {
  "kernelspec": {
   "display_name": "Python 2",
   "language": "python",
   "name": "python2"
  },
  "language_info": {
   "codemirror_mode": {
    "name": "ipython",
    "version": 2
   },
   "file_extension": ".py",
   "mimetype": "text/x-python",
   "name": "python",
   "nbconvert_exporter": "python",
   "pygments_lexer": "ipython2",
   "version": "2.7.13"
  }
 },
 "nbformat": 4,
 "nbformat_minor": 2
}
