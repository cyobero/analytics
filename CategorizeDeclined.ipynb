{
 "cells": [
  {
   "cell_type": "markdown",
   "metadata": {},
   "source": [
    "# Categorizing RO Comments as Declined or Accepted"
   ]
  },
  {
   "cell_type": "markdown",
   "metadata": {},
   "source": [
    "RO_Comments contains many fields. The fields we are concerned with is the **correction** field, which contains whether a customer has either accepted or declined a service. Our goal is to categorize each observation in the correction field, which is a free text field, as either \"declined\" or \"accepted.\" The current approach is very straightforward, and can be summarized as follows\n",
    "\n",
    "1. Lowercase each correction free text field.\n",
    "2. For each correction in corrections, if the substrings \"declined\" or \"declined\" are present, then we categorize that observation as \"declined\" and \"accepted\" otherwise."
   ]
  },
  {
   "cell_type": "code",
   "execution_count": 32,
   "metadata": {
    "collapsed": false
   },
   "outputs": [],
   "source": [
    "import csv\n",
    "\n",
    "f = open('/Users/czar.yobero/Desktop/Decline_ROs_20180130.csv')\n",
    "csv_reader = csv.DictReader(f)\n",
    "corrections = []\n",
    "for row in csv_reader:\n",
    "    corrections.append(row['correction'])\n",
    "    \n",
    "corrections = [correction.lower() for correction in corrections]"
   ]
  },
  {
   "cell_type": "markdown",
   "metadata": {},
   "source": [
    "Now we have a list of corrections that are lowercased. The next step is to determine if \"decline\" or \"declined\" is in any of the corrections. Then we will export the resulting output as a CSV file. "
   ]
  },
  {
   "cell_type": "code",
   "execution_count": 34,
   "metadata": {
    "collapsed": false
   },
   "outputs": [],
   "source": [
    "out = open('/Users/czar.yobero/Desktop/categorized_declined3.csv', 'wb+')\n",
    "out_writer = csv.writer(out)\n",
    "\n",
    "for correction in corrections:\n",
    "    if 'decline' in correction:\n",
    "        out_writer.writerow([correction, \"Declined\"])\n",
    "    else:\n",
    "        out_writer.writerow([correction, \"Accepted\"])\n",
    "        \n",
    "f.close()\n",
    "out.close()"
   ]
  },
  {
   "cell_type": "code",
   "execution_count": null,
   "metadata": {
    "collapsed": true
   },
   "outputs": [],
   "source": []
  }
 ],
 "metadata": {
  "kernelspec": {
   "display_name": "Python 2",
   "language": "python",
   "name": "python2"
  },
  "language_info": {
   "codemirror_mode": {
    "name": "ipython",
    "version": 2
   },
   "file_extension": ".py",
   "mimetype": "text/x-python",
   "name": "python",
   "nbconvert_exporter": "python",
   "pygments_lexer": "ipython2",
   "version": "2.7.13"
  }
 },
 "nbformat": 4,
 "nbformat_minor": 2
}
