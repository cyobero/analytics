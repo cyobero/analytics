{
 "cells": [
  {
   "cell_type": "markdown",
   "metadata": {},
   "source": [
    "# Having Some Fun with Project Euler Problems"
   ]
  },
  {
   "cell_type": "markdown",
   "metadata": {},
   "source": [
    "[Project Euler](http://projecteuler.net) is a collection of mathematical and computational problems that serves as an  extremely useful resource to test and improve your both your problem solving and coding abilities. The site is composed of different mathematical problems and tests your ability to come up with a solution using the programming language of your choice. I absolutely love the site. Here are just a few of the relatively easier problems. \n",
    "\n",
    "It's important to note that Project Euler isn't so much concerned about how long it takes you to develop your algorithm, or even how elegant it is. Each problem is designed according to the \"one-minute rule,\" meaning that regardless of your algorithm, you should be able to solve the problem on a modestly powerful computer within one minute or less. \n",
    "\n",
    "With that in mind, let's go through some of easier problems. "
   ]
  },
  {
   "cell_type": "markdown",
   "metadata": {},
   "source": [
    "## 1. Multiples of 3 and 5: Find the sum of all multiples of 3 and 5 below 1,000. "
   ]
  },
  {
   "cell_type": "markdown",
   "metadata": {},
   "source": [
    "This problem is fairly straightforward. A multiple of a number $n$ is any number that can be evenly divided by $n$. Thus, if $n = 3$ , multiples of $3$ include $\\{3,6,12,15,18, \\ldots \\}$. Here is a simple solution to finding the sum of all multiples of 3 and 5 below 1,000."
   ]
  },
  {
   "cell_type": "code",
   "execution_count": 12,
   "metadata": {
    "collapsed": false
   },
   "outputs": [
    {
     "data": {
      "text/plain": [
       "233168"
      ]
     },
     "execution_count": 12,
     "metadata": {},
     "output_type": "execute_result"
    }
   ],
   "source": [
    "multiples = []\n",
    "for n in range(1,1000):\n",
    "    if (n % 3 == 0) or (n % 5 == 0):\n",
    "        multiples.append(n)\n",
    "\n",
    "sum(multiples)"
   ]
  },
  {
   "cell_type": "markdown",
   "metadata": {},
   "source": [
    "We can even shorten the above code using list comprehension, thereby reducing 4 lines of code into 1. "
   ]
  },
  {
   "cell_type": "code",
   "execution_count": 13,
   "metadata": {
    "collapsed": false
   },
   "outputs": [
    {
     "data": {
      "text/plain": [
       "233168"
      ]
     },
     "execution_count": 13,
     "metadata": {},
     "output_type": "execute_result"
    }
   ],
   "source": [
    "multiples = [n for n in range(1,1000) if (n % 3 == 0) or (n % 5) == 0]\n",
    "\n",
    "sum(multiples)"
   ]
  },
  {
   "cell_type": "markdown",
   "metadata": {},
   "source": [
    "## 2. Even Fibonacci Numbers: Find the sum of even-valued terms in a Fibonacci sequence whose value does not exceed 4 million. "
   ]
  },
  {
   "cell_type": "markdown",
   "metadata": {},
   "source": [
    "If you're unfamiliar with the Fibonacci sequence, it is a sequence of numbers in which the next number in the series can be calculated by the preceding two numbers. The following is a Fibonacci sequence $\\{0,1,1,2,3,5,8,13,21,34,55,89,...\\}$. Note that the $0$ is optional in the sequence and doesn't necessarily have to be included. That is, you don't necessarily have to start a Fibonacci sequence with $0$. "
   ]
  },
  {
   "cell_type": "markdown",
   "metadata": {},
   "source": [
    "A very popular way of computing the $n^{th}$ term of a Fibonacci sequence is by creating a **recursive function** such as the following:"
   ]
  },
  {
   "cell_type": "code",
   "execution_count": 14,
   "metadata": {
    "collapsed": true
   },
   "outputs": [],
   "source": [
    "def fib(n):\n",
    "    if n <= 2:\n",
    "        return 1\n",
    "    else:\n",
    "        return fib(n-1) + fib(n-2)"
   ]
  },
  {
   "cell_type": "markdown",
   "metadata": {},
   "source": [
    "We can test out our function to find the first 10 terms in a Fibonacci sequence."
   ]
  },
  {
   "cell_type": "code",
   "execution_count": 15,
   "metadata": {
    "collapsed": false
   },
   "outputs": [
    {
     "name": "stdout",
     "output_type": "stream",
     "text": [
      "1\n",
      "1\n",
      "2\n",
      "3\n",
      "5\n",
      "8\n",
      "13\n",
      "21\n",
      "34\n"
     ]
    }
   ],
   "source": [
    "for n in range(1,10):\n",
    "    print fib(n)"
   ]
  },
  {
   "cell_type": "markdown",
   "metadata": {},
   "source": [
    "However, there is one major problem with this approach. The function that we created works well up until a certain index in the sequence before it eventually reaches a point in which it becomes computationally slower to calculate the $n^{th}$ number in the sequence. That being said, I will not venture to calculate $\\text{fib}(100)$ to illustrate my point, as it will take quite a long time. \n",
    "\n",
    "Fortunately, there is a more computationally efficient solution that not only gives us the $n^{th}$ number in the Fibonacci sequence, but by creating a function that takes in a parameter $n$ where $n$ represents how many numbers in the sequence you wish to return, we can solve the problem much more efficiently. Let's see how we might create such a function."
   ]
  },
  {
   "cell_type": "code",
   "execution_count": 16,
   "metadata": {
    "collapsed": true
   },
   "outputs": [],
   "source": [
    "def fib2(n):\n",
    "    fibs = [0, 1]\n",
    "    for n in range(2, n+1):\n",
    "        fibs.append(fibs[-1] + fibs[-2])\n",
    "    return fibs"
   ]
  },
  {
   "cell_type": "markdown",
   "metadata": {},
   "source": [
    "Let's take a look at how the function works. It starts off by creating a list of the first two terms of the Fibonacci sequence. From there, we create a for loop ranging from $ 2 $ to $n+1$ and append the results using yet another recursive function that sums the previous two numbers in the sequence. It then returns a Fibonacci sequence. Let's test our function. "
   ]
  },
  {
   "cell_type": "code",
   "execution_count": 17,
   "metadata": {
    "collapsed": false
   },
   "outputs": [
    {
     "data": {
      "text/plain": [
       "[0,\n",
       " 1,\n",
       " 1,\n",
       " 2,\n",
       " 3,\n",
       " 5,\n",
       " 8,\n",
       " 13,\n",
       " 21,\n",
       " 34,\n",
       " 55,\n",
       " 89,\n",
       " 144,\n",
       " 233,\n",
       " 377,\n",
       " 610,\n",
       " 987,\n",
       " 1597,\n",
       " 2584,\n",
       " 4181,\n",
       " 6765]"
      ]
     },
     "execution_count": 17,
     "metadata": {},
     "output_type": "execute_result"
    }
   ],
   "source": [
    "fib2(20)  # returns the first 20 terms of the Fibonacci sequence."
   ]
  },
  {
   "cell_type": "markdown",
   "metadata": {},
   "source": [
    "Let's see how well this function does in computing the first 100 terms. "
   ]
  },
  {
   "cell_type": "code",
   "execution_count": 18,
   "metadata": {
    "collapsed": false
   },
   "outputs": [
    {
     "data": {
      "text/plain": [
       "[0,\n",
       " 1,\n",
       " 1,\n",
       " 2,\n",
       " 3,\n",
       " 5,\n",
       " 8,\n",
       " 13,\n",
       " 21,\n",
       " 34,\n",
       " 55,\n",
       " 89,\n",
       " 144,\n",
       " 233,\n",
       " 377,\n",
       " 610,\n",
       " 987,\n",
       " 1597,\n",
       " 2584,\n",
       " 4181,\n",
       " 6765,\n",
       " 10946,\n",
       " 17711,\n",
       " 28657,\n",
       " 46368,\n",
       " 75025,\n",
       " 121393,\n",
       " 196418,\n",
       " 317811,\n",
       " 514229,\n",
       " 832040,\n",
       " 1346269,\n",
       " 2178309,\n",
       " 3524578,\n",
       " 5702887,\n",
       " 9227465,\n",
       " 14930352,\n",
       " 24157817,\n",
       " 39088169,\n",
       " 63245986,\n",
       " 102334155,\n",
       " 165580141,\n",
       " 267914296,\n",
       " 433494437,\n",
       " 701408733,\n",
       " 1134903170,\n",
       " 1836311903,\n",
       " 2971215073,\n",
       " 4807526976,\n",
       " 7778742049,\n",
       " 12586269025,\n",
       " 20365011074,\n",
       " 32951280099,\n",
       " 53316291173,\n",
       " 86267571272,\n",
       " 139583862445,\n",
       " 225851433717,\n",
       " 365435296162,\n",
       " 591286729879,\n",
       " 956722026041,\n",
       " 1548008755920,\n",
       " 2504730781961,\n",
       " 4052739537881,\n",
       " 6557470319842,\n",
       " 10610209857723,\n",
       " 17167680177565,\n",
       " 27777890035288,\n",
       " 44945570212853,\n",
       " 72723460248141,\n",
       " 117669030460994,\n",
       " 190392490709135,\n",
       " 308061521170129,\n",
       " 498454011879264,\n",
       " 806515533049393,\n",
       " 1304969544928657,\n",
       " 2111485077978050,\n",
       " 3416454622906707,\n",
       " 5527939700884757,\n",
       " 8944394323791464,\n",
       " 14472334024676221,\n",
       " 23416728348467685,\n",
       " 37889062373143906,\n",
       " 61305790721611591,\n",
       " 99194853094755497,\n",
       " 160500643816367088,\n",
       " 259695496911122585,\n",
       " 420196140727489673,\n",
       " 679891637638612258,\n",
       " 1100087778366101931,\n",
       " 1779979416004714189,\n",
       " 2880067194370816120,\n",
       " 4660046610375530309,\n",
       " 7540113804746346429,\n",
       " 12200160415121876738L,\n",
       " 19740274219868223167L,\n",
       " 31940434634990099905L,\n",
       " 51680708854858323072L,\n",
       " 83621143489848422977L,\n",
       " 135301852344706746049L,\n",
       " 218922995834555169026L,\n",
       " 354224848179261915075L]"
      ]
     },
     "execution_count": 18,
     "metadata": {},
     "output_type": "execute_result"
    }
   ],
   "source": [
    "fib2(100)"
   ]
  },
  {
   "cell_type": "markdown",
   "metadata": {},
   "source": [
    "Relatively much faster than our first function that we defind. **I would NOT advise not to calculate the 100th term of the Fibonacci sequence using our first fib function. You will find yourself waiting for an eternity**."
   ]
  },
  {
   "cell_type": "markdown",
   "metadata": {},
   "source": [
    "So, now that we have a function that is computationaly efficient, let's solve the problem of finding the sum of the even-valued terms in a Fibonacci sequence whose value does not exceed 4,000,000. "
   ]
  },
  {
   "cell_type": "code",
   "execution_count": 19,
   "metadata": {
    "collapsed": false
   },
   "outputs": [
    {
     "data": {
      "text/plain": [
       "[0,\n",
       " 1,\n",
       " 1,\n",
       " 2,\n",
       " 3,\n",
       " 5,\n",
       " 8,\n",
       " 13,\n",
       " 21,\n",
       " 34,\n",
       " 55,\n",
       " 89,\n",
       " 144,\n",
       " 233,\n",
       " 377,\n",
       " 610,\n",
       " 987,\n",
       " 1597,\n",
       " 2584,\n",
       " 4181,\n",
       " 6765,\n",
       " 10946,\n",
       " 17711,\n",
       " 28657,\n",
       " 46368,\n",
       " 75025,\n",
       " 121393,\n",
       " 196418,\n",
       " 317811,\n",
       " 514229,\n",
       " 832040,\n",
       " 1346269,\n",
       " 2178309,\n",
       " 3524578,\n",
       " 5702887,\n",
       " 9227465,\n",
       " 14930352,\n",
       " 24157817,\n",
       " 39088169,\n",
       " 63245986,\n",
       " 102334155,\n",
       " 165580141,\n",
       " 267914296,\n",
       " 433494437,\n",
       " 701408733,\n",
       " 1134903170,\n",
       " 1836311903,\n",
       " 2971215073,\n",
       " 4807526976,\n",
       " 7778742049,\n",
       " 12586269025]"
      ]
     },
     "execution_count": 19,
     "metadata": {},
     "output_type": "execute_result"
    }
   ],
   "source": [
    "# I do not know at precisely what index is a number in a Fibonacci sequence is less than 4M, and I'm sure there's way\n",
    "# of easily calculating that, but for now, let's just do some trial and error.\n",
    "\n",
    "sequence = fib2(50)\n",
    "sequence"
   ]
  },
  {
   "cell_type": "markdown",
   "metadata": {},
   "source": [
    "It definitely looks like that there is a value that is less than 4,000,000 within the first 50 terms of the Fibonacci sequence. We can manually check it, but since this is an exercise in programming, why don't we use code to check where the value is less than 4M. "
   ]
  },
  {
   "cell_type": "code",
   "execution_count": 20,
   "metadata": {
    "collapsed": false
   },
   "outputs": [
    {
     "name": "stdout",
     "output_type": "stream",
     "text": [
      "0\n",
      "1\n",
      "1\n",
      "3\n",
      "4\n",
      "5\n",
      "6\n",
      "7\n",
      "8\n",
      "9\n",
      "10\n",
      "11\n",
      "12\n",
      "13\n",
      "14\n",
      "15\n",
      "16\n",
      "17\n",
      "18\n",
      "19\n",
      "20\n",
      "21\n",
      "22\n",
      "23\n",
      "24\n",
      "25\n",
      "26\n",
      "27\n",
      "28\n",
      "29\n",
      "30\n",
      "31\n",
      "32\n",
      "33\n"
     ]
    }
   ],
   "source": [
    "for n in sequence:\n",
    "    if n < 4000000:\n",
    "        print sequence.index(n)"
   ]
  },
  {
   "cell_type": "markdown",
   "metadata": {},
   "source": [
    "The 33rd number in the Fibonacci sequence is the number that is less than 4M. This is enough information to solve our problem. "
   ]
  },
  {
   "cell_type": "code",
   "execution_count": 21,
   "metadata": {
    "collapsed": false
   },
   "outputs": [
    {
     "data": {
      "text/plain": [
       "[0, 2, 8, 34, 144, 610, 2584, 10946, 46368, 196418, 832040, 3524578]"
      ]
     },
     "execution_count": 21,
     "metadata": {},
     "output_type": "execute_result"
    }
   ],
   "source": [
    "fib_series = fib2(33)\n",
    "even_fibs = []\n",
    "\n",
    "for n in fib_series:\n",
    "    if n % 2 == 0:\n",
    "        even_fibs.append(n)\n",
    "        \n",
    "even_fibs"
   ]
  },
  {
   "cell_type": "markdown",
   "metadata": {},
   "source": [
    "Now that we have a list of all the even-valued numbers in the sequence, we can just simply take the sum."
   ]
  },
  {
   "cell_type": "code",
   "execution_count": 22,
   "metadata": {
    "collapsed": false
   },
   "outputs": [
    {
     "data": {
      "text/plain": [
       "4613732"
      ]
     },
     "execution_count": 22,
     "metadata": {},
     "output_type": "execute_result"
    }
   ],
   "source": [
    "sum(even_fibs)"
   ]
  },
  {
   "cell_type": "markdown",
   "metadata": {},
   "source": [
    "And voilà. There you have it. The sum of all even numbers in a Fibonacci sequence whose value does not exceed 4,000,000. "
   ]
  },
  {
   "cell_type": "markdown",
   "metadata": {},
   "source": [
    "## 3. What is the smallest number that can be evenly divided by all numbers from 1 to 20? "
   ]
  },
  {
   "cell_type": "markdown",
   "metadata": {},
   "source": [
    "In this problem, we're essentially asked to find the least common multiple (LCM) for a set of all numbers. If you need a refresher, the least common multiple between two numbers is the smallest number (greater than 0) that is a multiple of both numbers. That is, given two numbers $a$ and $b$, the least common multiple of $a$ and $b$ is the smallest number that can be evenly divided by both $a$ and $b$. For example, the least common multiple of 6 and 4 is 12, since $\\frac{12}{6}=2$ and $\\frac{12}{4}=3$. \n",
    "\n",
    "Finding the LCM of two numbers is quite simple (depending on the two numbers, of course). However, it becomes a little trickier, to say the least, to find the least common multiple for 3 or more numbers. For example, what is the least common multiple of all numbers from 1 to 10? Well, they give you the answer in this question, and the answer is 2,520. We can even do a quick check using very inefficient code. "
   ]
  },
  {
   "cell_type": "code",
   "execution_count": 23,
   "metadata": {
    "collapsed": true
   },
   "outputs": [],
   "source": [
    "i = 10  # Since we're looking for the smallest number that is evenly divisible by 1 through 10, it makes sense to start\n",
    "        # with a number greater than 10, as any number less than 10 will reslut in at least one fraction. \n",
    "remainders = [i % n for n in range(1, 11)]\n",
    "\n",
    "for n in remainders:\n",
    "    while sum(remainders) != 0:\n",
    "        i += 1\n",
    "        remainders = [i % n for n in range(1, 11)]\n",
    "        sum(remainders)"
   ]
  },
  {
   "cell_type": "markdown",
   "metadata": {},
   "source": [
    "Let's examine the code above. I initially created a list in which I store the value of the remainder of i % n, where n is an integer from 1 to 10. Then, I created a for loop that continues to calculte increments i by 1 and calculate i % n for all n in remainders until the sum of remainders is 0 to find the LCM. The logic behind this is that if all numbers in the remainders list is divisible by i, then the remainder will be 0. Thus, if the remainders list contains all 0s, we find our LCM. Let's see if we get 2,520 using our inefficient code. "
   ]
  },
  {
   "cell_type": "code",
   "execution_count": 24,
   "metadata": {
    "collapsed": false
   },
   "outputs": [
    {
     "data": {
      "text/plain": [
       "2520"
      ]
     },
     "execution_count": 24,
     "metadata": {},
     "output_type": "execute_result"
    }
   ],
   "source": [
    "i"
   ]
  },
  {
   "cell_type": "markdown",
   "metadata": {},
   "source": [
    "It checks out. The smallest number that is divisible by all numbers 1 through 10 is 2,520. The problem with this code, and why it is inefficient, is that it works fine for the given range (1 through 11 not inclusive). However, the problem asks for the smallest number that is evenly divisible by 1 through 20, which is a greater range. Using this code will not work, as it is computationally slow. However, there's a simple solution to this that is much more efficient. \n",
    "\n",
    "It involves using Euclid's algorithm for finding the greatest common denominator and proceeding to create two functions to find the LCM between two or more numbers. If you're unfamiliar with Euclid's algorithm for finding the greatest common denominator (GCD), the GCD of two numbers A and B, \n",
    "\n",
    "    1. If A = 0, then GCD(A, B) = B. \n",
    "    2. If B = 0, then GCD(A, B) = A. \n",
    "    3. If neither A or B is 0, then express A in quotient remainder form (A = B*Q + R)\n",
    "    4. Find GCD(B, R) using Euclid's algorithm until B = 0.\n",
    "    \n",
    "Let's create our functions. "
   ]
  },
  {
   "cell_type": "code",
   "execution_count": 25,
   "metadata": {
    "collapsed": true
   },
   "outputs": [],
   "source": [
    "def gcd(a, b):\n",
    "    \"\"\"Returns GCD of a and b\"\"\"\n",
    "    while b:\n",
    "        a, b = b, a % b \n",
    "    return a\n",
    "    \n",
    "def lcm(a, b):\n",
    "    \"\"\"Returns LCM of a and b\"\"\"\n",
    "    return a * b//gcd(a, b)\n",
    "\n",
    "def lcm_multi(*args):\n",
    "    \"\"\"Returns LCM of 2 or more numbers\"\"\"\n",
    "    return reduce(lcm, args)"
   ]
  },
  {
   "cell_type": "markdown",
   "metadata": {},
   "source": [
    "We now have everything we need to compute the LCM of all integers from 1 through 20. "
   ]
  },
  {
   "cell_type": "code",
   "execution_count": 27,
   "metadata": {
    "collapsed": false
   },
   "outputs": [
    {
     "data": {
      "text/plain": [
       "232792560"
      ]
     },
     "execution_count": 27,
     "metadata": {},
     "output_type": "execute_result"
    }
   ],
   "source": [
    "lcm_multi(*range(1, 20))"
   ]
  },
  {
   "cell_type": "markdown",
   "metadata": {},
   "source": [
    "There you have it. The smallest number that can be divided by 1 through 20 is 232,792,560."
   ]
  },
  {
   "cell_type": "markdown",
   "metadata": {},
   "source": [
    "## 4. What is the largest prime factor of 600,851,475,143? "
   ]
  },
  {
   "cell_type": "markdown",
   "metadata": {},
   "source": [
    "Let's go back to elementary school and revisit what prime numbers are. A **prime** number is any integer $n>1$ whose only factors are itself and 1. Thus, 2, 5, and 7 are all prime numbers since for each of those numbers, the only factors are 2 and 1, 5 and 1, and 7 and 1. A **composite** number is the opposite of a prime number in that it is a number that has factors beyond itself and 1. That it is, it can be evenly divided by another number besides 1 and itself. An example would be 10 and 36. 10 has factors of 1, 2, 5, and 10. 36 has factors of 1, 2, 2, 3, 3, and 6. Multiplying all prime factors will result in the original number. In the case of 36, for example, $2 \\times 2 \\times 3 \\times 3 = 4 \\times 9 = 36$. \n",
    "\n",
    "Don't let the large size of the number scare you. The solution to this problem is quite simple. We can define a function that finds all prime factors for any given integer $n>1$. "
   ]
  },
  {
   "cell_type": "code",
   "execution_count": 28,
   "metadata": {
    "collapsed": true
   },
   "outputs": [],
   "source": [
    "def prime_factors(n):\n",
    "    if n <= 1:\n",
    "        pass\n",
    "    else:\n",
    "        i = 2\n",
    "        factors = []\n",
    "        while i**2 <= n:\n",
    "            if n % i:\n",
    "                i += 1\n",
    "            else:\n",
    "                n //= i\n",
    "                factors.append(i)\n",
    "        if n > 1:\n",
    "            factors.append(n)\n",
    "    return factors"
   ]
  },
  {
   "cell_type": "markdown",
   "metadata": {},
   "source": [
    "Let's check if our code works. "
   ]
  },
  {
   "cell_type": "code",
   "execution_count": 29,
   "metadata": {
    "collapsed": false
   },
   "outputs": [
    {
     "data": {
      "text/plain": [
       "[2, 2, 3, 3]"
      ]
     },
     "execution_count": 29,
     "metadata": {},
     "output_type": "execute_result"
    }
   ],
   "source": [
    "prime_factors(36)"
   ]
  },
  {
   "cell_type": "code",
   "execution_count": 30,
   "metadata": {
    "collapsed": false
   },
   "outputs": [
    {
     "data": {
      "text/plain": [
       "[3, 3, 3, 3]"
      ]
     },
     "execution_count": 30,
     "metadata": {},
     "output_type": "execute_result"
    }
   ],
   "source": [
    "prime_factors(81)"
   ]
  },
  {
   "cell_type": "markdown",
   "metadata": {},
   "source": [
    "Sure enough, it does. Now, I've already gone ahead and tried passing 600,851,475,143 to the function, and it is well within the \"one-minute\" rule. So, let's try it. "
   ]
  },
  {
   "cell_type": "code",
   "execution_count": 33,
   "metadata": {
    "collapsed": false
   },
   "outputs": [
    {
     "data": {
      "text/plain": [
       "[71, 839, 1471, 6857]"
      ]
     },
     "execution_count": 33,
     "metadata": {},
     "output_type": "execute_result"
    }
   ],
   "source": [
    "prime_factors(600851475143)"
   ]
  },
  {
   "cell_type": "markdown",
   "metadata": {},
   "source": [
    "There we have it. The largest prime factor of 600,851,475,143 is 6857. However, let's just check to see if 6857 is really prime. By passing it through our function, it should return 6857 if it is in fact prime. "
   ]
  },
  {
   "cell_type": "code",
   "execution_count": 34,
   "metadata": {
    "collapsed": false
   },
   "outputs": [
    {
     "data": {
      "text/plain": [
       "[6857]"
      ]
     },
     "execution_count": 34,
     "metadata": {},
     "output_type": "execute_result"
    }
   ],
   "source": [
    "prime_factors(6857)"
   ]
  },
  {
   "cell_type": "markdown",
   "metadata": {},
   "source": [
    "Checks out. 6857 is a prime number. "
   ]
  },
  {
   "cell_type": "markdown",
   "metadata": {},
   "source": [
    "## 5. Find the largest palindrome made from the product of two 3-digit numbers."
   ]
  },
  {
   "cell_type": "markdown",
   "metadata": {},
   "source": [
    "A palendrome is a number that reads the same backwards as forward. For example, 101, 2002, 181, 9669 are all palendromic numbers. The solution:"
   ]
  },
  {
   "cell_type": "code",
   "execution_count": 37,
   "metadata": {
    "collapsed": true
   },
   "outputs": [],
   "source": [
    "a = []\n",
    "b = []\n",
    "a.extend(range(100,1000))\n",
    "b.extend(range(100,1000))\n",
    "palindromes = []\n",
    "\n",
    "for i in a:\n",
    "    for j in b:\n",
    "        i * j\n",
    "        if str(i * j) == str(i * j)[::-1]:\n",
    "            palindromes.append(i * j)"
   ]
  },
  {
   "cell_type": "markdown",
   "metadata": {},
   "source": [
    "Let's first make sure our list actually consists of palendromic numbers. "
   ]
  },
  {
   "cell_type": "code",
   "execution_count": 39,
   "metadata": {
    "collapsed": false
   },
   "outputs": [
    {
     "data": {
      "text/plain": [
       "[10201, 11211, 12221, 13231, 14241, 15251, 16261, 17271, 18281, 19291]"
      ]
     },
     "execution_count": 39,
     "metadata": {},
     "output_type": "execute_result"
    }
   ],
   "source": [
    "palindromes[:10]"
   ]
  },
  {
   "cell_type": "markdown",
   "metadata": {},
   "source": [
    "Looks like it does. Now let's see what the largest palindromic number between two 3-digit numbers is. "
   ]
  },
  {
   "cell_type": "code",
   "execution_count": 40,
   "metadata": {
    "collapsed": false
   },
   "outputs": [
    {
     "data": {
      "text/plain": [
       "906609"
      ]
     },
     "execution_count": 40,
     "metadata": {},
     "output_type": "execute_result"
    }
   ],
   "source": [
    "max(palindromes)"
   ]
  },
  {
   "cell_type": "markdown",
   "metadata": {},
   "source": [
    "The largest palendromic number between two 3-digit numbers is 906609. "
   ]
  }
 ],
 "metadata": {
  "kernelspec": {
   "display_name": "Python 2",
   "language": "python",
   "name": "python2"
  },
  "language_info": {
   "codemirror_mode": {
    "name": "ipython",
    "version": 2
   },
   "file_extension": ".py",
   "mimetype": "text/x-python",
   "name": "python",
   "nbconvert_exporter": "python",
   "pygments_lexer": "ipython2",
   "version": "2.7.11"
  }
 },
 "nbformat": 4,
 "nbformat_minor": 0
}
